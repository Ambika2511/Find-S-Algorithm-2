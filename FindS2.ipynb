{
 "cells": [
  {
   "cell_type": "code",
   "execution_count": 1,
   "metadata": {},
   "outputs": [],
   "source": [
    "import random\n",
    "import csv"
   ]
  },
  {
   "cell_type": "code",
   "execution_count": 30,
   "metadata": {},
   "outputs": [
    {
     "name": "stdout",
     "output_type": "stream",
     "text": [
      "[['Sunny', 'Rainy'], ['Warm', 'Cold'], ['Strong', 'Weak'], ['Normal', 'High'], ['Warm', 'Cool'], ['Same', 'change']]\n"
     ]
    }
   ],
   "source": [
    "attributes = [['Sunny','Rainy'],\n",
    "              ['Warm','Cold'],\n",
    "              ['Strong','Weak'],\n",
    "              ['Normal','High'],\n",
    "              ['Warm','Cool'],\n",
    "              ['Same','change']]\n",
    "print(attributes)"
   ]
  },
  {
   "cell_type": "code",
   "execution_count": 31,
   "metadata": {},
   "outputs": [
    {
     "name": "stdout",
     "output_type": "stream",
     "text": [
      "6\n"
     ]
    }
   ],
   "source": [
    "num_attributes = len(attributes)\n",
    "print(num_attributes)"
   ]
  },
  {
   "cell_type": "code",
   "execution_count": 32,
   "metadata": {},
   "outputs": [
    {
     "name": "stdout",
     "output_type": "stream",
     "text": [
      "\n",
      " The most general hypothesis:['?','?','?','?','?','?']\n",
      "\n",
      "\n",
      " The most specific hypothesis:['0','0','0','0','0','0']\n",
      "\n"
     ]
    }
   ],
   "source": [
    "print(\"\\n The most general hypothesis:['?','?','?','?','?','?']\\n\")\n",
    "print(\"\\n The most specific hypothesis:['0','0','0','0','0','0']\\n\")"
   ]
  },
  {
   "cell_type": "code",
   "execution_count": 36,
   "metadata": {},
   "outputs": [
    {
     "name": "stdout",
     "output_type": "stream",
     "text": [
      "\n",
      " The given training data set\n",
      "\n",
      "['Sky', 'AirTemp', 'Humidity', 'Wind', 'Water', 'Forcast', 'Enjoy Sport']\n",
      "['Sunny', 'Warm', 'Normal', 'Strong', 'Warm', 'Same', 'Yes']\n",
      "['Sunny', 'Warm', 'High', 'Strong', 'Warm', 'Same', 'Yes']\n",
      "['Rainy', 'Cold', 'High', 'Strong', 'Warm', 'Change', 'no']\n",
      "['Sunny', 'Cold', 'High', 'Strong', 'Cool', 'Change', 'Yes']\n"
     ]
    }
   ],
   "source": [
    "a = []\n",
    "print(\"\\n The given training data set\\n\")\n",
    "with open('4MT17CS013_Enjoy.csv','r') as csvFile:\n",
    "    reader = csv.reader(csvFile)\n",
    "    for row in reader:\n",
    "        a.append(row)\n",
    "        print(row)"
   ]
  },
  {
   "cell_type": "code",
   "execution_count": 37,
   "metadata": {},
   "outputs": [
    {
     "name": "stdout",
     "output_type": "stream",
     "text": [
      "\n",
      " the initial values of hypothesis:\n",
      "['0', '0', '0', '0', '0', '0']\n"
     ]
    }
   ],
   "source": [
    "print(\"\\n the initial values of hypothesis:\")\n",
    "h = ['0'] * num_attributes\n",
    "print(h)"
   ]
  },
  {
   "cell_type": "code",
   "execution_count": 38,
   "metadata": {},
   "outputs": [
    {
     "name": "stdout",
     "output_type": "stream",
     "text": [
      "\n",
      " for training examples : 5 the hypothesis \n",
      " ['Sunny', '?', '?', 'Strong', '?', '?']\n"
     ]
    }
   ],
   "source": [
    "for i in range(0,len(a)):\n",
    "    if a[i][num_attributes] == 'Yes':\n",
    "        for j in range(num_attributes):\n",
    "            if h[j] == '0' or h[j] == a[i][j]:\n",
    "                h[j] = a[i][j]\n",
    "            else:\n",
    "                h[j] = '?'\n",
    "print(\"\\n for training examples : {0} the hypothesis \\n\".format(i+1),h)"
   ]
  },
  {
   "cell_type": "code",
   "execution_count": null,
   "metadata": {},
   "outputs": [],
   "source": []
  }
 ],
 "metadata": {
  "kernelspec": {
   "display_name": "Python 3",
   "language": "python",
   "name": "python3"
  },
  "language_info": {
   "codemirror_mode": {
    "name": "ipython",
    "version": 3
   },
   "file_extension": ".py",
   "mimetype": "text/x-python",
   "name": "python",
   "nbconvert_exporter": "python",
   "pygments_lexer": "ipython3",
   "version": "3.7.3"
  }
 },
 "nbformat": 4,
 "nbformat_minor": 2
}
